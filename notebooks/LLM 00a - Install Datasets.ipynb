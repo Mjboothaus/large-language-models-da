{
 "cells": [
  {
   "cell_type": "markdown",
   "metadata": {},
   "source": [
    "Based upon `LLM 00b - Introduction to Databricks.py`"
   ]
  },
  {
   "cell_type": "markdown",
   "metadata": {},
   "source": [
    "## Reading data\n",
    "When you ran the **Setup** cell at the top of the notebook, some variables were created for you. One of the variables is `DA.paths.datasets` which is the path to datasets which will be used during this course.\n",
    "One such dataset is located at **`{DA.paths.datasets}/news/labelled_newscatcher_dataset.csv`**. Let's use `pandas` to read that csv file.\n"
   ]
  },
  {
   "cell_type": "code",
   "execution_count": null,
   "metadata": {},
   "outputs": [],
   "source": [
    "import pandas as pd\n",
    "import matplotlib.pyplot as plt"
   ]
  },
  {
   "cell_type": "code",
   "execution_count": null,
   "metadata": {},
   "outputs": [],
   "source": [
    "DA_paths_datasets = \"../data\"  # note rename of DA.paths.datasets variable (for local Jupyter notebook versions)\n",
    "\n",
    "# Specify the location of the csv file\n",
    "csv_location = f\"{DA_paths_datasets}/news/labelled_newscatcher_dataset.csv\"\n",
    "# Read the dataset\n",
    "newscatcher = pd.read_csv(csv_location, sep=\";\")\n",
    "# Display the datset\n",
    "newscatcher.head()"
   ]
  },
  {
   "cell_type": "markdown",
   "metadata": {},
   "source": [
    "We can now use `matplotlib` to plot aggregate data from our dataset. \n",
    "\n",
    "The `display()` command will pretty-print a large variety of data types, including Apache Spark DataFrames or Pandas DataFrames.\n",
    "\n",
    "It will also allow you to make visualizations without writing additional code. For example, after executing the below command click the `+` icon in the results to add a Visualization. Select the **Bar** visualization type and click \"Save\"."
   ]
  },
  {
   "cell_type": "code",
   "execution_count": null,
   "metadata": {},
   "outputs": [],
   "source": [
    "# Count how many articles exist per topic\n",
    "newscatcher_counts_by_topic = (\n",
    "    newscatcher.loc[:, [\"topic\", \"title\"]].groupby(\"topic\").agg(\"count\").reset_index(drop=False)\n",
    ")\n",
    "\n",
    "# Create a bar plot\n",
    "plt.bar(newscatcher_counts_by_topic[\"topic\"], height=newscatcher_counts_by_topic[\"title\"])\n",
    "plt.xticks(rotation=45)\n",
    "plt.show()"
   ]
  },
  {
   "cell_type": "code",
   "execution_count": null,
   "metadata": {},
   "outputs": [],
   "source": [
    "display(newscatcher_counts_by_topic)"
   ]
  },
  {
   "cell_type": "markdown",
   "metadata": {},
   "source": [
    "Databricks Runtime (DBR) environments come with many pre-installed libraries (for example, <a href=\"https://docs.databricks.com/release-notes/runtime/13.1ml.html#python-libraries-on-cpu-clusters\"  target=\"_blank\">DBR 13.1 python libraries</a>), but sometimes you'll want to install some additional ones.\n",
    "\n",
    "Additional libraries can be installed directly onto your cluster in the **Compute** tab, or you can install them with a scope specific to your individual notebook using the `%pip` magic command.\n",
    "\n",
    "Because sometimes you'll need to restart your python kernel after installing a new library via `%pip` it's considered best practice to put all `%pip` commands at the very top of your notebook.\n",
    "\n"
   ]
  },
  {
   "cell_type": "markdown",
   "metadata": {},
   "source": [
    "Now we can import the newly installed `nlptest` package (see notes in comments below)"
   ]
  },
  {
   "cell_type": "code",
   "execution_count": null,
   "metadata": {},
   "outputs": [],
   "source": [
    "# pip install nlptest==1.1.0 (also required install of setuptools package)\n",
    "\n",
    "import nlptest\n",
    "\n",
    "# Note that this library has been superseded by `langtest`\n",
    "# http://langtest.org/docs/pages/docs/install"
   ]
  },
  {
   "cell_type": "code",
   "execution_count": null,
   "metadata": {},
   "outputs": [],
   "source": []
  }
 ],
 "metadata": {
  "kernelspec": {
   "display_name": ".venv",
   "language": "python",
   "name": "python3"
  },
  "language_info": {
   "codemirror_mode": {
    "name": "ipython",
    "version": 3
   },
   "file_extension": ".py",
   "mimetype": "text/x-python",
   "name": "python",
   "nbconvert_exporter": "python",
   "pygments_lexer": "ipython3",
   "version": "3.10.13"
  }
 },
 "nbformat": 4,
 "nbformat_minor": 2
}
